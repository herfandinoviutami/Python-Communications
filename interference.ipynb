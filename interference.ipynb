{
  "cells": [
    {
      "cell_type": "code",
      "execution_count": null,
      "id": "3a9db14f-db41-4d65-9c33-7da4bbd2dbb7",
      "metadata": {
        "id": "3a9db14f-db41-4d65-9c33-7da4bbd2dbb7"
      },
      "outputs": [],
      "source": [
        "%load_ext autoreload\n",
        "%autoreload 2"
      ]
    },
    {
      "cell_type": "code",
      "execution_count": null,
      "id": "90d780ab-1333-468d-a940-8c43d0c68c9e",
      "metadata": {
        "id": "90d780ab-1333-468d-a940-8c43d0c68c9e"
      },
      "outputs": [],
      "source": [
        "import numpy as np\n",
        "import matplotlib.pyplot as plt\n",
        "import cv2\n",
        "import os\n",
        "from pymeasure.adapters import VXI11Adapter \n",
        "from T3AWG3252 import T3AWG3252, upload_signal_teledyne"
      ]
    },
    {
      "cell_type": "markdown",
      "id": "394098ee-8fde-46b5-9397-43a24f1dbf4d",
      "metadata": {
        "id": "394098ee-8fde-46b5-9397-43a24f1dbf4d"
      },
      "source": [
        "# 1) Get the network adapter using the VXI11 protocol"
      ]
    },
    {
      "cell_type": "code",
      "execution_count": null,
      "id": "9127141a-0a53-45e1-9254-4d8be02e13a9",
      "metadata": {
        "id": "9127141a-0a53-45e1-9254-4d8be02e13a9"
      },
      "outputs": [],
      "source": [
        "ip_addr = '192.168.1.88'\n",
        "conn_adapter = VXI11Adapter(host=ip_addr)"
      ]
    },
    {
      "cell_type": "markdown",
      "id": "921e6180-f410-41f7-a04d-40e049d7a3af",
      "metadata": {
        "id": "921e6180-f410-41f7-a04d-40e049d7a3af"
      },
      "source": [
        "# 2) Get the T3AWG3252 arbitrary wave generator"
      ]
    },
    {
      "cell_type": "code",
      "execution_count": null,
      "id": "b96d91ec-cc5c-4600-97fe-0ec6caa0faaa",
      "metadata": {
        "id": "b96d91ec-cc5c-4600-97fe-0ec6caa0faaa",
        "outputId": "3034a350-bde9-4f5b-d853-59c704a2c49c"
      },
      "outputs": [
        {
          "name": "stdout",
          "output_type": "stream",
          "text": [
            "ACTIVE TECHNOLOGIES,AWG3252,T0302I19050303,SCPI:1999.0,SV:1.1.3.0\n"
          ]
        }
      ],
      "source": [
        "awg = T3AWG3252(conn_adapter)\n",
        "print(awg.idn())"
      ]
    },
    {
      "cell_type": "markdown",
      "id": "4e44ab23-56bb-4158-9690-e53585e90317",
      "metadata": {
        "id": "4e44ab23-56bb-4158-9690-e53585e90317"
      },
      "source": [
        "# 3) Functions for generating signals"
      ]
    },
    {
      "cell_type": "code",
      "execution_count": null,
      "id": "6852efd2-46e5-419e-994c-e638f248f1b3",
      "metadata": {
        "id": "6852efd2-46e5-419e-994c-e638f248f1b3"
      },
      "outputs": [],
      "source": [
        "def generate_square_signal(fc,fs,phase=0):\n",
        "    \"\"\"\n",
        "    Generates a square wave with a period of 2*pi, with has a value of \n",
        "    +0 from 0 to phase\n",
        "    +1 from phase to phase+pi\n",
        "    +0 from phase+pi + 2*pi\n",
        "    \n",
        "    Args:\n",
        "        fc (float): Carrier frequency in Hz. 1/T where T is the period of the square signal\n",
        "        fs (float): Sampling frequency in Hz. The number of samples per second\n",
        "        phase (float): Phase in radians\n",
        "    Returns:\n",
        "        samples: The signal generated samples\n",
        "    \"\"\"\n",
        "    num_samples = np.round(period * fs).astype(int)\n",
        "    zero_samples = np.round((1 - phase / np.pi) * num_samples/2).astype(int)\n",
        "    ones_samples = np.round(num_samples / 2).astype(int)\n",
        "    samples = np.concatenate([np.zeros(zero_samples),\n",
        "                              np.ones(ones_samples),\n",
        "                              np.zeros(ones_samples-zero_samples)])\n",
        "    fs = len(samples) / period\n",
        "    return samples\n",
        "\n",
        "def generate_sin_signal(fc,fs,phase,cycles):\n",
        "    \"\"\"\n",
        "    Generates a sinusoid wave.\n",
        "    \n",
        "    Args:\n",
        "        fc (float): Carrier frecuency in Hz. 1/T where T is the period of the sinusoid signal.\n",
        "        fs (floagt): Sampling frequency in Hz. The number of samples per second.\n",
        "        phase (float): Phase in radians\n",
        "    Returns:\n",
        "        samples: The signal generated samples\n",
        "        t: The time reference\n",
        "    \"\"\"\n",
        "    period = 1/fc\n",
        "    num_samples = int(cycles * period * fs)\n",
        "    t = np.linspace(0,cycles * period,num_samples)\n",
        "    k = 2 * np.pi * fc * t + phase\n",
        "    samples = np.sin(k)\n",
        "    return samples, t"
      ]
    },
    {
      "cell_type": "markdown",
      "id": "27c5f309-e1f8-4d3d-b6e0-9e9caac8fdb8",
      "metadata": {
        "id": "27c5f309-e1f8-4d3d-b6e0-9e9caac8fdb8"
      },
      "source": [
        "# 5) Experiments\n",
        "## 5.1) Generate example signals"
      ]
    },
    {
      "cell_type": "code",
      "execution_count": null,
      "id": "ab8e93e6-a0c1-4ba2-a2cd-cb44a9f13a44",
      "metadata": {
        "id": "ab8e93e6-a0c1-4ba2-a2cd-cb44a9f13a44",
        "outputId": "a1fec02a-5ba1-4356-88fb-7bfc0860a4b7"
      },
      "outputs": [
        {
          "data": {
            "image/png": "[encoded data removed]",
            "text/plain": [
              "<Figure size 432x288 with 1 Axes>"
            ]
          },
          "metadata": {
            "needs_background": "light"
          },
          "output_type": "display_data"
        }
      ],
      "source": [
        "CAMERA_SAMPLING=18.9035e-6           # The sampling time (row sampling time) of the camera (PiCamera V2)\n",
        "CAMERA_FS=1/CAMERA_SAMPLING          # The sampling frequency of the camera (PiCamera V2)\n",
        "RX_NUM_SAMPLES = 40                  # The number of samples per cycle at the receiver side.\n",
        "\n",
        "FC1 = CAMERA_FS / RX_NUM_SAMPLES     # The carrier frequency of the transmitted signal (channel 1)\n",
        "PHASE1 = 0                           # The phase of the transmitted signal (channel 1)\n",
        "FC2 = CAMERA_FS / RX_NUM_SAMPLES     # The carrier frecuency of the transmitted signal (channel 2)\n",
        "PHASE2 = np.pi                       # The phase of the transmitted signal (channel 2)\n",
        "\n",
        "if FC2 < FC1:\n",
        "    CYCLES1=FC1/FC2\n",
        "    CYCLES2=1\n",
        "else:\n",
        "    CYCLES1=1\n",
        "    CYCLES2=FC2/FC1\n",
        "\n",
        "TX_NUM_SAMPLES = 10000               # The number of samples per cycle at the transmitter side.\n",
        "FS = FC1 * TX_NUM_SAMPLES            # The sampling frequency of the transmitter\n",
        "\n",
        "samples_chn1, t1 = generate_sin_signal(FC1, FS, PHASE1, CYCLES1)\n",
        "samples_chn2, t2 = generate_sin_signal(FC2, FS, PHASE2, CYCLES2)\n",
        "\n",
        "plt.plot(t1, samples_chn1, label=\"channel 1 (FC1:{:.2f} Hz)\".format(FC1))\n",
        "plt.plot(t2, samples_chn2, label=\"channel 2 (FC2:{:.2f} Hz)\".format(FC2))\n",
        "plt.title(\"Generated signals\")\n",
        "plt.legend(loc=\"lower right\")\n",
        "\n",
        "upload_signal_teledyne(awg, name=\"temp1\", samples=samples_chn1, amp=3, fs = FS, channel=1, run=False)\n",
        "upload_signal_teledyne(awg, name=\"temp2\", samples=samples_chn2, amp=3, fs = FS, channel=2, run=True)"
      ]
    },
    {
      "cell_type": "markdown",
      "id": "33857205-7dcb-40d4-b3a2-d391ca511378",
      "metadata": {
        "id": "33857205-7dcb-40d4-b3a2-d391ca511378"
      },
      "source": [
        "## 5.2 Generate experiment SIN. FREQ and PHASE\n",
        "The transmitted signal are two sinusoids in which the frequency and phase changes\n",
        "### 5.2.1 Define sample set"
      ]
    },
    {
      "cell_type": "code",
      "execution_count": null,
      "id": "bfb99830-b2a5-4ed6-a82d-d240d0b93620",
      "metadata": {
        "id": "bfb99830-b2a5-4ed6-a82d-d240d0b93620",
        "outputId": "3623a9f9-e630-4e07-900b-1b18b8053862"
      },
      "outputs": [
        {
          "name": "stdout",
          "output_type": "stream",
          "text": [
            "[0.         0.39269908 0.78539816 1.17809725 1.57079633 1.96349541\n",
            " 2.35619449 2.74889357 3.14159265]\n"
          ]
        }
      ],
      "source": [
        "CAMERA_SAMPLING=18.9035e-6           # The sampling time (row sampling time) of the camera (PiCamera V2)\n",
        "CAMERA_FS=1/CAMERA_SAMPLING          # The sampling frequency of the camera (PiCamera V2)\n",
        "RX_NUM_SAMPLES = 40                  # The number of samples per cycle at the receiver side.\n",
        "\n",
        "FC1 = CAMERA_FS / RX_NUM_SAMPLES     # The carrier frequency of the transmitted signal (channel 1)\n",
        "PHASE1 = 0                           # The phase of the transmitted signal (channel 1)\n",
        "\n",
        "FCS2 = np.asarray([1,1/2,1/3]) * CAMERA_FS / RX_NUM_SAMPLES  # The carrier frecuencies of the transmitted signal (channel 2)\n",
        "PHASES2 = np.arange(0,8+1)*1/8*np.pi                         # The phases of the transmitted signal (channel 2). From 0 to pi in steps of 1/8 pi\n",
        "\n",
        "print(PHASES2)\n",
        "TX_NUM_SAMPLES = 10000               # The number of samples per cycle at the transmitter side.\n",
        "FS = FC1 * TX_NUM_SAMPLES            # The sampling frequency of the transmitter\n",
        "\n",
        "NUM_SAMPLES_SET = 4\n",
        "\n",
        "NAME=\"EXP_{}us-AG_{}-SAMPLES-{}_CHN1_freq-{:0.2f}Hz-phase-{:0.2f}_CHN2_freq-{:0.2f}Hz-phase-{:0.2f}_idx-{}.jpg\"\n",
        "\n",
        "EXP = 85\n",
        "AG = 4"
      ]
    },
    {
      "cell_type": "markdown",
      "id": "413ca39c-0f7f-447a-9ac2-1753094d2906",
      "metadata": {
        "id": "413ca39c-0f7f-447a-9ac2-1753094d2906"
      },
      "source": [
        "### 5.2.2 Generate sample set"
      ]
    },
    {
      "cell_type": "code",
      "execution_count": null,
      "id": "3b53b225-8415-4a89-b0f9-2caa94e14cc6",
      "metadata": {
        "id": "3b53b225-8415-4a89-b0f9-2caa94e14cc6"
      },
      "outputs": [],
      "source": [
        "import time\n",
        "for i in range(NUM_SAMPLES_SET):\n",
        "    for FC2 in FCS2:\n",
        "        for PHASE2 in PHASES2: \n",
        "            if FC2 < FC1:\n",
        "                CYCLES1=FC1/FC2\n",
        "                CYCLES2=1\n",
        "            else:\n",
        "                CYCLES1=1\n",
        "                CYCLES2=FC2/FC1\n",
        "            samples_chn1, t1 = generate_sin_signal(FC1, FS, PHASE1, CYCLES1)\n",
        "            samples_chn2, t2 = generate_sin_signal(FC2, FS, PHASE2, CYCLES2)\n",
        "            upload_signal_teledyne(awg, name=\"temp1\", samples=samples_chn1, amp=3, fs = FS, channel=1, run=False)\n",
        "            upload_signal_teledyne(awg, name=\"temp2\", samples=samples_chn2, amp=3, fs = FS, channel=2, run=True)\n",
        "            time.sleep(1)\n",
        "            # img = capture_image(EXP, AG, NAME.format(EXP, AG, RX_NUM_SAMPLES, FC1, PHASE1, FC2, PHASE2, int(i)), False)"
      ]
    }
  ],
  "metadata": {
    "kernelspec": {
      "display_name": "Python 3 (ipykernel)",
      "language": "python",
      "name": "python3"
    },
    "language_info": {
      "codemirror_mode": {
        "name": "ipython",
        "version": 3
      },
      "file_extension": ".py",
      "mimetype": "text/x-python",
      "name": "python",
      "nbconvert_exporter": "python",
      "pygments_lexer": "ipython3",
      "version": "3.10.0"
    },
    "colab": {
      "provenance": []
    }
  },
  "nbformat": 4,
  "nbformat_minor": 5
}